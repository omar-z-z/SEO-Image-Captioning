{
 "cells": [
  {
   "cell_type": "markdown",
   "id": "7d945ab6",
   "metadata": {},
   "source": [
    "This code file is for explaining the different parts of a Python script."
   ]
  }
 ],
 "metadata": {
  "kernelspec": {
   "display_name": "Python 3",
   "language": "python",
   "name": "python3"
  },
  "language_info": {
   "name": "python",
   "version": "3.11.9"
  }
 },
 "nbformat": 4,
 "nbformat_minor": 5
}
